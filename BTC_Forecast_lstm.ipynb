{
  "nbformat": 4,
  "nbformat_minor": 0,
  "metadata": {
    "colab": {
      "name": "BTC-Forecast.ipynb",
      "provenance": [],
      "collapsed_sections": [],
      "include_colab_link": true
    },
    "kernelspec": {
      "name": "python3",
      "display_name": "Python 3"
    },
    "widgets": {
      "application/vnd.jupyter.widget-state+json": {
        "8ad897a19fdf41baa16583727e464101": {
          "model_module": "@jupyter-widgets/controls",
          "model_name": "HBoxModel",
          "state": {
            "_view_name": "HBoxView",
            "_dom_classes": [],
            "_model_name": "HBoxModel",
            "_view_module": "@jupyter-widgets/controls",
            "_model_module_version": "1.5.0",
            "_view_count": null,
            "_view_module_version": "1.5.0",
            "box_style": "",
            "layout": "IPY_MODEL_49ca682f81f24a5389023e0a26ad9e64",
            "_model_module": "@jupyter-widgets/controls",
            "children": [
              "IPY_MODEL_ed885a5a9390453983b0126a7f94e77c",
              "IPY_MODEL_6a4d35aca4244d86a0b8de711b443dcf"
            ]
          }
        },
        "4910e2b55dac469f82c2af6514925943": {
          "model_module": "@jupyter-widgets/controls",
          "model_name": "HBoxModel",
          "state": {
            "_view_name": "HBoxView",
            "_dom_classes": [],
            "_model_name": "HBoxModel",
            "_view_module": "@jupyter-widgets/controls",
            "_model_module_version": "1.5.0",
            "_view_count": null,
            "_view_module_version": "1.5.0",
            "box_style": "",
            "layout": "IPY_MODEL_839f4d0d47d543858ff4d9ebc3b0425f",
            "_model_module": "@jupyter-widgets/controls",
            "children": [
              "IPY_MODEL_66cb2109a3ce419381eda6b89ffe6662",
              "IPY_MODEL_ada58fdedecf46b1a051e7594f6d42cb"
            ]
          }
        }
      }
    }
  },
  "cells": [
    {
      "cell_type": "markdown",
      "metadata": {
        "id": "view-in-github",
        "colab_type": "text"
      },
      "source": [
        "<a href=\"https://colab.research.google.com/github/suyash091/BTC-Forecast/blob/master/BTC_Forecast_lstm.ipynb\" target=\"_parent\"><img src=\"https://colab.research.google.com/assets/colab-badge.svg\" alt=\"Open In Colab\"/></a>"
      ]
    },
    {
      "cell_type": "code",
      "metadata": {
        "id": "PqjIjir9OH6F",
        "colab_type": "code",
        "colab": {}
      },
      "source": [
        "import pandas as pd\n",
        "import numpy as np\n",
        "from tqdm._tqdm_notebook import tqdm_notebook "
      ],
      "execution_count": 0,
      "outputs": []
    },
    {
      "cell_type": "code",
      "metadata": {
        "id": "78aKc8IjFSW8",
        "colab_type": "code",
        "colab": {}
      },
      "source": [
        "import numpy as np\n",
        "import pandas as pd\n",
        "import os\n",
        "import sys\n",
        "import time\n",
        "import pandas as pd\n",
        "from tqdm._tqdm_notebook import tqdm_notebook as tqdm\n",
        "import pickle\n",
        "from keras.models import Sequential\n",
        "from keras.layers import Dense, Dropout, Flatten\n",
        "from keras.layers import Embedding\n",
        "from keras.layers import LSTM\n",
        "import keras\n",
        "from keras.callbacks import Callback\n",
        "from keras import optimizers\n",
        "from keras.wrappers.scikit_learn import KerasClassifier\n",
        "from keras.callbacks import CSVLogger\n",
        "from sklearn.model_selection import GridSearchCV\n",
        "# import psutil\n",
        "from sklearn.preprocessing import MinMaxScaler, normalize\n",
        "from sklearn.model_selection import train_test_split\n",
        "from sklearn.metrics import accuracy_score, mean_squared_error\n",
        "\n",
        "import logging"
      ],
      "execution_count": 0,
      "outputs": []
    },
    {
      "cell_type": "code",
      "metadata": {
        "id": "lfV9wU9jOWBv",
        "colab_type": "code",
        "colab": {}
      },
      "source": [
        "df = pd.read_csv(\"/content/BTC-USD-3.csv\")\n",
        "df_date = pd.to_datetime(df['Date'])"
      ],
      "execution_count": 0,
      "outputs": []
    },
    {
      "cell_type": "code",
      "metadata": {
        "id": "qNQd_KiQOZ9V",
        "colab_type": "code",
        "colab": {
          "base_uri": "https://localhost:8080/",
          "height": 273
        },
        "outputId": "1afdc1b5-7c1d-4192-e87b-80e7495f5976"
      },
      "source": [
        "df = df.set_index(df_date)\n",
        "#df.reset_index().sort_values('Date', ascending=True, inplace=True)\n",
        "\n",
        "df.head()"
      ],
      "execution_count": 39,
      "outputs": [
        {
          "output_type": "execute_result",
          "data": {
            "text/html": [
              "<div>\n",
              "<style scoped>\n",
              "    .dataframe tbody tr th:only-of-type {\n",
              "        vertical-align: middle;\n",
              "    }\n",
              "\n",
              "    .dataframe tbody tr th {\n",
              "        vertical-align: top;\n",
              "    }\n",
              "\n",
              "    .dataframe thead th {\n",
              "        text-align: right;\n",
              "    }\n",
              "</style>\n",
              "<table border=\"1\" class=\"dataframe\">\n",
              "  <thead>\n",
              "    <tr style=\"text-align: right;\">\n",
              "      <th></th>\n",
              "      <th>Date</th>\n",
              "      <th>Open</th>\n",
              "      <th>High</th>\n",
              "      <th>Low</th>\n",
              "      <th>Close</th>\n",
              "      <th>Adj Close</th>\n",
              "      <th>Volume</th>\n",
              "    </tr>\n",
              "    <tr>\n",
              "      <th>Date</th>\n",
              "      <th></th>\n",
              "      <th></th>\n",
              "      <th></th>\n",
              "      <th></th>\n",
              "      <th></th>\n",
              "      <th></th>\n",
              "      <th></th>\n",
              "    </tr>\n",
              "  </thead>\n",
              "  <tbody>\n",
              "    <tr>\n",
              "      <th>2014-09-17</th>\n",
              "      <td>2014-09-17</td>\n",
              "      <td>465.864014</td>\n",
              "      <td>468.174011</td>\n",
              "      <td>452.421997</td>\n",
              "      <td>457.334015</td>\n",
              "      <td>457.334015</td>\n",
              "      <td>21056800</td>\n",
              "    </tr>\n",
              "    <tr>\n",
              "      <th>2014-09-18</th>\n",
              "      <td>2014-09-18</td>\n",
              "      <td>456.859985</td>\n",
              "      <td>456.859985</td>\n",
              "      <td>413.104004</td>\n",
              "      <td>424.440002</td>\n",
              "      <td>424.440002</td>\n",
              "      <td>34483200</td>\n",
              "    </tr>\n",
              "    <tr>\n",
              "      <th>2014-09-19</th>\n",
              "      <td>2014-09-19</td>\n",
              "      <td>424.102997</td>\n",
              "      <td>427.834991</td>\n",
              "      <td>384.532013</td>\n",
              "      <td>394.795990</td>\n",
              "      <td>394.795990</td>\n",
              "      <td>37919700</td>\n",
              "    </tr>\n",
              "    <tr>\n",
              "      <th>2014-09-20</th>\n",
              "      <td>2014-09-20</td>\n",
              "      <td>394.673004</td>\n",
              "      <td>423.295990</td>\n",
              "      <td>389.882996</td>\n",
              "      <td>408.903992</td>\n",
              "      <td>408.903992</td>\n",
              "      <td>36863600</td>\n",
              "    </tr>\n",
              "    <tr>\n",
              "      <th>2014-09-21</th>\n",
              "      <td>2014-09-21</td>\n",
              "      <td>408.084991</td>\n",
              "      <td>412.425995</td>\n",
              "      <td>393.181000</td>\n",
              "      <td>398.821014</td>\n",
              "      <td>398.821014</td>\n",
              "      <td>26580100</td>\n",
              "    </tr>\n",
              "  </tbody>\n",
              "</table>\n",
              "</div>"
            ],
            "text/plain": [
              "                  Date        Open  ...   Adj Close    Volume\n",
              "Date                                ...                      \n",
              "2014-09-17  2014-09-17  465.864014  ...  457.334015  21056800\n",
              "2014-09-18  2014-09-18  456.859985  ...  424.440002  34483200\n",
              "2014-09-19  2014-09-19  424.102997  ...  394.795990  37919700\n",
              "2014-09-20  2014-09-20  394.673004  ...  408.903992  36863600\n",
              "2014-09-21  2014-09-21  408.084991  ...  398.821014  26580100\n",
              "\n",
              "[5 rows x 7 columns]"
            ]
          },
          "metadata": {
            "tags": []
          },
          "execution_count": 39
        }
      ]
    },
    {
      "cell_type": "code",
      "metadata": {
        "id": "ulfwXO4dCnnU",
        "colab_type": "code",
        "colab": {
          "base_uri": "https://localhost:8080/",
          "height": 74
        },
        "outputId": "0c40e07a-d9c6-4d5c-d547-3d86cb3b000a"
      },
      "source": [
        "from sklearn.preprocessing import MinMaxScaler\n",
        "from sklearn.model_selection import train_test_split\n",
        "\n",
        "train_cols = [\"Open\",\"High\",\"Low\",\"Close\",\"Volume\"]\n",
        "df_train, df_test = train_test_split(df, train_size=0.8, test_size=0.2, shuffle=False)\n",
        "print(\"Train and Test size\", len(df_train), len(df_test))\n",
        "# scale the feature MinMax, build array\n",
        "x = df_train.loc[:,train_cols].values\n",
        "min_max_scaler = MinMaxScaler()\n",
        "x_train = min_max_scaler.fit_transform(x)\n",
        "x_test = min_max_scaler.transform(df_test.loc[:,train_cols])"
      ],
      "execution_count": 41,
      "outputs": [
        {
          "output_type": "stream",
          "text": [
            "Train and Test size 1526 382\n"
          ],
          "name": "stdout"
        }
      ]
    },
    {
      "cell_type": "code",
      "metadata": {
        "id": "mC3n7MTdDFew",
        "colab_type": "code",
        "colab": {}
      },
      "source": [
        "def build_timeseries(mat, y_col_index):\n",
        "    # y_col_index is the index of column that would act as output column\n",
        "    # total number of time-series samples would be len(mat) - TIME_STEPS\n",
        "    dim_0 = mat.shape[0] - TIME_STEPS\n",
        "    dim_1 = mat.shape[1]\n",
        "    x = np.zeros((dim_0, TIME_STEPS, dim_1))\n",
        "    y = np.zeros((dim_0,))\n",
        "    \n",
        "    for i in tqdm_notebook(range(dim_0)):\n",
        "        x[i] = mat[i:TIME_STEPS+i]\n",
        "        y[i] = mat[TIME_STEPS+i, y_col_index]\n",
        "    print(\"length of time-series i/o\",x.shape,y.shape)\n",
        "    return x, y"
      ],
      "execution_count": 0,
      "outputs": []
    },
    {
      "cell_type": "code",
      "metadata": {
        "id": "FZRKDUR3DPiO",
        "colab_type": "code",
        "colab": {}
      },
      "source": [
        "def trim_dataset(mat, batch_size):\n",
        "    \"\"\"\n",
        "    trims dataset to a size that's divisible by BATCH_SIZE\n",
        "    \"\"\"\n",
        "    no_of_rows_drop = mat.shape[0]%batch_size\n",
        "    if(no_of_rows_drop > 0):\n",
        "        return mat[:-no_of_rows_drop]\n",
        "    else:\n",
        "        return mat"
      ],
      "execution_count": 0,
      "outputs": []
    },
    {
      "cell_type": "code",
      "metadata": {
        "id": "oSuXR8kgDhJ3",
        "colab_type": "code",
        "colab": {}
      },
      "source": [
        "BATCH_SIZE=64\n",
        "TIME_STEPS=90"
      ],
      "execution_count": 0,
      "outputs": []
    },
    {
      "cell_type": "code",
      "metadata": {
        "id": "2leC2Y0DDY-Y",
        "colab_type": "code",
        "colab": {
          "base_uri": "https://localhost:8080/",
          "height": 125,
          "referenced_widgets": [
            "8ad897a19fdf41baa16583727e464101",
            "4910e2b55dac469f82c2af6514925943"
          ]
        },
        "outputId": "0e1e6404-0c66-4692-ffff-179ebe119fd4"
      },
      "source": [
        "x_t, y_t = build_timeseries(x_train, 3)\n",
        "x_t = trim_dataset(x_t, BATCH_SIZE)\n",
        "y_t = trim_dataset(y_t, BATCH_SIZE)\n",
        "x_temp, y_temp = build_timeseries(x_test, 3)\n",
        "x_val, x_test_t = np.split(trim_dataset(x_temp, BATCH_SIZE),2)\n",
        "y_val, y_test_t = np.split(trim_dataset(y_temp, BATCH_SIZE),2)"
      ],
      "execution_count": 84,
      "outputs": [
        {
          "output_type": "display_data",
          "data": {
            "application/vnd.jupyter.widget-view+json": {
              "model_id": "8ad897a19fdf41baa16583727e464101",
              "version_minor": 0,
              "version_major": 2
            },
            "text/plain": [
              "HBox(children=(IntProgress(value=0, max=1436), HTML(value='')))"
            ]
          },
          "metadata": {
            "tags": []
          }
        },
        {
          "output_type": "stream",
          "text": [
            "\n",
            "length of time-series i/o (1436, 90, 5) (1436,)\n"
          ],
          "name": "stdout"
        },
        {
          "output_type": "display_data",
          "data": {
            "application/vnd.jupyter.widget-view+json": {
              "model_id": "4910e2b55dac469f82c2af6514925943",
              "version_minor": 0,
              "version_major": 2
            },
            "text/plain": [
              "HBox(children=(IntProgress(value=0, max=292), HTML(value='')))"
            ]
          },
          "metadata": {
            "tags": []
          }
        },
        {
          "output_type": "stream",
          "text": [
            "\n",
            "length of time-series i/o (292, 90, 5) (292,)\n"
          ],
          "name": "stdout"
        }
      ]
    },
    {
      "cell_type": "code",
      "metadata": {
        "id": "Yr_qNgZBGkA9",
        "colab_type": "code",
        "colab": {
          "base_uri": "https://localhost:8080/",
          "height": 54
        },
        "outputId": "23831288-ab8d-4e42-e164-fdc946527830"
      },
      "source": [
        "x_t.shape[2]"
      ],
      "execution_count": 62,
      "outputs": [
        {
          "output_type": "execute_result",
          "data": {
            "text/plain": [
              "5"
            ]
          },
          "metadata": {
            "tags": []
          },
          "execution_count": 62
        }
      ]
    },
    {
      "cell_type": "code",
      "metadata": {
        "id": "P2CCRKLEFM3F",
        "colab_type": "code",
        "colab": {}
      },
      "source": [
        "lstm_model = Sequential()\n",
        "lstm_model.add(LSTM(100, batch_input_shape=(BATCH_SIZE, TIME_STEPS, x_t.shape[2]), dropout=0.0, recurrent_dropout=0.0, stateful=True,     kernel_initializer='random_uniform'))\n",
        "lstm_model.add(Dropout(0.5))\n",
        "lstm_model.add(Dense(128,activation='relu'))\n",
        "lstm_model.add(Dense(1,activation='sigmoid'))\n",
        "optimizer = optimizers.RMSprop()\n",
        "lstm_model.compile(loss='mean_squared_error', optimizer=optimizer)"
      ],
      "execution_count": 0,
      "outputs": []
    },
    {
      "cell_type": "code",
      "metadata": {
        "id": "G4gS7kOWH3Ec",
        "colab_type": "code",
        "colab": {
          "base_uri": "https://localhost:8080/",
          "height": 355
        },
        "outputId": "935a9222-a679-4724-b017-24a136c36eba"
      },
      "source": [
        "model.summary()"
      ],
      "execution_count": 87,
      "outputs": [
        {
          "output_type": "stream",
          "text": [
            "Model: \"sequential_29\"\n",
            "_________________________________________________________________\n",
            "Layer (type)                 Output Shape              Param #   \n",
            "=================================================================\n",
            "lstm_57 (LSTM)               (None, 60, 100)           40800     \n",
            "_________________________________________________________________\n",
            "lstm_58 (LSTM)               (None, 100)               80400     \n",
            "_________________________________________________________________\n",
            "dense_53 (Dense)             (None, 126)               12726     \n",
            "_________________________________________________________________\n",
            "dense_54 (Dense)             (None, 128)               16256     \n",
            "_________________________________________________________________\n",
            "dense_55 (Dense)             (None, 1)                 129       \n",
            "=================================================================\n",
            "Total params: 150,311\n",
            "Trainable params: 150,311\n",
            "Non-trainable params: 0\n",
            "_________________________________________________________________\n"
          ],
          "name": "stdout"
        }
      ]
    },
    {
      "cell_type": "code",
      "metadata": {
        "id": "bqwnI9jsG9Ku",
        "colab_type": "code",
        "colab": {}
      },
      "source": [
        "your_epochs=200"
      ],
      "execution_count": 0,
      "outputs": []
    },
    {
      "cell_type": "code",
      "metadata": {
        "id": "xplelbaiFlXt",
        "colab_type": "code",
        "colab": {
          "base_uri": "https://localhost:8080/",
          "height": 1000
        },
        "outputId": "16e5a1e9-976d-44b5-b743-99a5f09b5beb"
      },
      "source": [
        "\n",
        "csv_logger = CSVLogger(os.path.join('/content/sample_data', 'your_log_name' + '.log'), append=True)\n",
        "\n",
        "history = lstm_model.fit(x_t, y_t, epochs=your_epochs, verbose=2, batch_size=BATCH_SIZE,\n",
        "                    shuffle=False, validation_data=(trim_dataset(x_val, BATCH_SIZE),\n",
        "                    trim_dataset(y_val, BATCH_SIZE)), callbacks=[csv_logger])"
      ],
      "execution_count": 92,
      "outputs": [
        {
          "output_type": "stream",
          "text": [
            "Train on 1408 samples, validate on 128 samples\n",
            "Epoch 1/200\n",
            " - 17s - loss: 0.0531 - val_loss: 0.0282\n",
            "Epoch 2/200\n",
            " - 2s - loss: 0.0403 - val_loss: 0.0226\n",
            "Epoch 3/200\n",
            " - 2s - loss: 0.0215 - val_loss: 0.0186\n",
            "Epoch 4/200\n",
            " - 2s - loss: 0.0126 - val_loss: 0.0097\n",
            "Epoch 5/200\n",
            " - 2s - loss: 0.0096 - val_loss: 0.0091\n",
            "Epoch 6/200\n",
            " - 2s - loss: 0.0088 - val_loss: 0.0099\n",
            "Epoch 7/200\n",
            " - 2s - loss: 0.0080 - val_loss: 0.0079\n",
            "Epoch 8/200\n",
            " - 2s - loss: 0.0068 - val_loss: 0.0097\n",
            "Epoch 9/200\n",
            " - 2s - loss: 0.0065 - val_loss: 0.0093\n",
            "Epoch 10/200\n",
            " - 2s - loss: 0.0055 - val_loss: 0.0092\n",
            "Epoch 11/200\n",
            " - 2s - loss: 0.0048 - val_loss: 0.0092\n",
            "Epoch 12/200\n",
            " - 2s - loss: 0.0046 - val_loss: 0.0135\n",
            "Epoch 13/200\n",
            " - 2s - loss: 0.0042 - val_loss: 0.0122\n",
            "Epoch 14/200\n",
            " - 2s - loss: 0.0037 - val_loss: 0.0122\n",
            "Epoch 15/200\n",
            " - 2s - loss: 0.0035 - val_loss: 0.0127\n",
            "Epoch 16/200\n",
            " - 2s - loss: 0.0034 - val_loss: 0.0126\n",
            "Epoch 17/200\n",
            " - 2s - loss: 0.0026 - val_loss: 0.0167\n",
            "Epoch 18/200\n",
            " - 2s - loss: 0.0025 - val_loss: 0.0049\n",
            "Epoch 19/200\n",
            " - 2s - loss: 0.0029 - val_loss: 0.0107\n",
            "Epoch 20/200\n",
            " - 2s - loss: 0.0031 - val_loss: 0.0108\n",
            "Epoch 21/200\n",
            " - 2s - loss: 0.0021 - val_loss: 0.0152\n",
            "Epoch 22/200\n",
            " - 2s - loss: 0.0020 - val_loss: 0.0057\n",
            "Epoch 23/200\n",
            " - 2s - loss: 0.0031 - val_loss: 0.0117\n",
            "Epoch 24/200\n",
            " - 2s - loss: 0.0023 - val_loss: 0.0144\n",
            "Epoch 25/200\n",
            " - 2s - loss: 0.0016 - val_loss: 0.0076\n",
            "Epoch 26/200\n",
            " - 2s - loss: 0.0024 - val_loss: 0.0098\n",
            "Epoch 27/200\n",
            " - 2s - loss: 0.0020 - val_loss: 0.0093\n",
            "Epoch 28/200\n",
            " - 2s - loss: 0.0017 - val_loss: 0.0112\n",
            "Epoch 29/200\n",
            " - 2s - loss: 0.0021 - val_loss: 0.0096\n",
            "Epoch 30/200\n",
            " - 2s - loss: 0.0026 - val_loss: 0.0101\n",
            "Epoch 31/200\n",
            " - 2s - loss: 0.0019 - val_loss: 0.0124\n",
            "Epoch 32/200\n",
            " - 2s - loss: 0.0017 - val_loss: 0.0156\n",
            "Epoch 33/200\n",
            " - 2s - loss: 0.0020 - val_loss: 0.0083\n",
            "Epoch 34/200\n",
            " - 2s - loss: 0.0026 - val_loss: 0.0097\n",
            "Epoch 35/200\n",
            " - 2s - loss: 0.0014 - val_loss: 0.0130\n",
            "Epoch 36/200\n",
            " - 2s - loss: 0.0016 - val_loss: 0.0096\n",
            "Epoch 37/200\n",
            " - 2s - loss: 0.0017 - val_loss: 0.0073\n",
            "Epoch 38/200\n",
            " - 2s - loss: 0.0028 - val_loss: 0.0094\n",
            "Epoch 39/200\n",
            " - 2s - loss: 0.0015 - val_loss: 0.0114\n",
            "Epoch 40/200\n",
            " - 2s - loss: 0.0014 - val_loss: 0.0116\n",
            "Epoch 41/200\n",
            " - 2s - loss: 0.0017 - val_loss: 0.0078\n",
            "Epoch 42/200\n",
            " - 2s - loss: 0.0025 - val_loss: 0.0093\n",
            "Epoch 43/200\n",
            " - 2s - loss: 0.0013 - val_loss: 0.0099\n",
            "Epoch 44/200\n",
            " - 2s - loss: 0.0016 - val_loss: 0.0075\n",
            "Epoch 45/200\n",
            " - 2s - loss: 0.0022 - val_loss: 0.0091\n",
            "Epoch 46/200\n",
            " - 2s - loss: 0.0017 - val_loss: 0.0107\n",
            "Epoch 47/200\n",
            " - 2s - loss: 0.0014 - val_loss: 0.0116\n",
            "Epoch 48/200\n",
            " - 2s - loss: 0.0017 - val_loss: 0.0071\n",
            "Epoch 49/200\n",
            " - 2s - loss: 0.0022 - val_loss: 0.0101\n",
            "Epoch 50/200\n",
            " - 2s - loss: 0.0013 - val_loss: 0.0118\n",
            "Epoch 51/200\n",
            " - 2s - loss: 0.0016 - val_loss: 0.0072\n",
            "Epoch 52/200\n",
            " - 2s - loss: 0.0024 - val_loss: 0.0097\n",
            "Epoch 53/200\n",
            " - 2s - loss: 0.0015 - val_loss: 0.0104\n",
            "Epoch 54/200\n",
            " - 2s - loss: 0.0011 - val_loss: 0.0072\n",
            "Epoch 55/200\n",
            " - 2s - loss: 0.0013 - val_loss: 0.0051\n",
            "Epoch 56/200\n",
            " - 2s - loss: 0.0021 - val_loss: 0.0096\n",
            "Epoch 57/200\n",
            " - 2s - loss: 0.0015 - val_loss: 0.0122\n",
            "Epoch 58/200\n",
            " - 2s - loss: 0.0014 - val_loss: 0.0085\n",
            "Epoch 59/200\n",
            " - 2s - loss: 0.0020 - val_loss: 0.0096\n",
            "Epoch 60/200\n",
            " - 2s - loss: 0.0012 - val_loss: 0.0072\n",
            "Epoch 61/200\n",
            " - 2s - loss: 0.0013 - val_loss: 0.0076\n",
            "Epoch 62/200\n",
            " - 2s - loss: 0.0013 - val_loss: 0.0070\n",
            "Epoch 63/200\n",
            " - 2s - loss: 0.0024 - val_loss: 0.0091\n",
            "Epoch 64/200\n",
            " - 2s - loss: 0.0010 - val_loss: 0.0093\n",
            "Epoch 65/200\n",
            " - 2s - loss: 0.0013 - val_loss: 0.0075\n",
            "Epoch 66/200\n",
            " - 2s - loss: 0.0016 - val_loss: 0.0091\n",
            "Epoch 67/200\n",
            " - 2s - loss: 0.0012 - val_loss: 0.0100\n",
            "Epoch 68/200\n",
            " - 2s - loss: 0.0012 - val_loss: 0.0069\n",
            "Epoch 69/200\n",
            " - 2s - loss: 0.0021 - val_loss: 0.0090\n",
            "Epoch 70/200\n",
            " - 2s - loss: 0.0011 - val_loss: 0.0091\n",
            "Epoch 71/200\n",
            " - 2s - loss: 0.0011 - val_loss: 0.0100\n",
            "Epoch 72/200\n",
            " - 2s - loss: 0.0011 - val_loss: 0.0117\n",
            "Epoch 73/200\n",
            " - 2s - loss: 0.0015 - val_loss: 0.0077\n",
            "Epoch 74/200\n",
            " - 2s - loss: 0.0022 - val_loss: 0.0091\n",
            "Epoch 75/200\n",
            " - 2s - loss: 9.6132e-04 - val_loss: 0.0090\n",
            "Epoch 76/200\n",
            " - 2s - loss: 0.0014 - val_loss: 0.0079\n",
            "Epoch 77/200\n",
            " - 2s - loss: 0.0019 - val_loss: 0.0087\n",
            "Epoch 78/200\n",
            " - 2s - loss: 0.0011 - val_loss: 0.0089\n",
            "Epoch 79/200\n",
            " - 2s - loss: 0.0012 - val_loss: 0.0075\n",
            "Epoch 80/200\n",
            " - 2s - loss: 0.0020 - val_loss: 0.0089\n",
            "Epoch 81/200\n",
            " - 2s - loss: 0.0010 - val_loss: 0.0076\n",
            "Epoch 82/200\n",
            " - 2s - loss: 0.0012 - val_loss: 0.0072\n",
            "Epoch 83/200\n",
            " - 2s - loss: 0.0017 - val_loss: 0.0087\n",
            "Epoch 84/200\n",
            " - 2s - loss: 0.0012 - val_loss: 0.0090\n",
            "Epoch 85/200\n",
            " - 2s - loss: 0.0011 - val_loss: 0.0077\n",
            "Epoch 86/200\n",
            " - 2s - loss: 0.0016 - val_loss: 0.0100\n",
            "Epoch 87/200\n",
            " - 2s - loss: 0.0013 - val_loss: 0.0102\n",
            "Epoch 88/200\n",
            " - 2s - loss: 9.3139e-04 - val_loss: 0.0075\n",
            "Epoch 89/200\n",
            " - 2s - loss: 0.0015 - val_loss: 0.0081\n",
            "Epoch 90/200\n",
            " - 2s - loss: 0.0017 - val_loss: 0.0094\n",
            "Epoch 91/200\n",
            " - 2s - loss: 9.6032e-04 - val_loss: 0.0080\n",
            "Epoch 92/200\n",
            " - 2s - loss: 0.0017 - val_loss: 0.0101\n",
            "Epoch 93/200\n",
            " - 2s - loss: 8.2824e-04 - val_loss: 0.0102\n",
            "Epoch 94/200\n",
            " - 2s - loss: 0.0011 - val_loss: 0.0118\n",
            "Epoch 95/200\n",
            " - 2s - loss: 0.0013 - val_loss: 0.0076\n",
            "Epoch 96/200\n",
            " - 2s - loss: 0.0019 - val_loss: 0.0098\n",
            "Epoch 97/200\n",
            " - 2s - loss: 0.0010 - val_loss: 0.0083\n",
            "Epoch 98/200\n",
            " - 2s - loss: 0.0012 - val_loss: 0.0076\n",
            "Epoch 99/200\n",
            " - 2s - loss: 0.0013 - val_loss: 0.0102\n",
            "Epoch 100/200\n",
            " - 2s - loss: 8.8526e-04 - val_loss: 0.0129\n",
            "Epoch 101/200\n",
            " - 2s - loss: 0.0016 - val_loss: 0.0110\n",
            "Epoch 102/200\n",
            " - 2s - loss: 0.0017 - val_loss: 0.0090\n",
            "Epoch 103/200\n",
            " - 2s - loss: 0.0011 - val_loss: 0.0112\n",
            "Epoch 104/200\n",
            " - 2s - loss: 0.0014 - val_loss: 0.0108\n",
            "Epoch 105/200\n",
            " - 2s - loss: 9.9622e-04 - val_loss: 0.0089\n",
            "Epoch 106/200\n",
            " - 2s - loss: 9.9514e-04 - val_loss: 0.0091\n",
            "Epoch 107/200\n",
            " - 2s - loss: 0.0016 - val_loss: 0.0098\n",
            "Epoch 108/200\n",
            " - 2s - loss: 0.0017 - val_loss: 0.0083\n",
            "Epoch 109/200\n",
            " - 2s - loss: 0.0014 - val_loss: 0.0108\n",
            "Epoch 110/200\n",
            " - 2s - loss: 0.0011 - val_loss: 0.0093\n",
            "Epoch 111/200\n",
            " - 2s - loss: 9.6304e-04 - val_loss: 0.0141\n",
            "Epoch 112/200\n",
            " - 2s - loss: 0.0012 - val_loss: 0.0102\n",
            "Epoch 113/200\n",
            " - 2s - loss: 0.0015 - val_loss: 0.0108\n",
            "Epoch 114/200\n",
            " - 2s - loss: 0.0020 - val_loss: 0.0096\n",
            "Epoch 115/200\n",
            " - 2s - loss: 0.0010 - val_loss: 0.0137\n",
            "Epoch 116/200\n",
            " - 2s - loss: 0.0017 - val_loss: 0.0108\n",
            "Epoch 117/200\n",
            " - 2s - loss: 9.2574e-04 - val_loss: 0.0087\n",
            "Epoch 118/200\n",
            " - 2s - loss: 0.0018 - val_loss: 0.0085\n",
            "Epoch 119/200\n",
            " - 2s - loss: 0.0016 - val_loss: 0.0140\n",
            "Epoch 120/200\n",
            " - 2s - loss: 0.0013 - val_loss: 0.0090\n",
            "Epoch 121/200\n",
            " - 2s - loss: 0.0011 - val_loss: 0.0158\n",
            "Epoch 122/200\n",
            " - 2s - loss: 0.0015 - val_loss: 0.0142\n",
            "Epoch 123/200\n",
            " - 2s - loss: 0.0017 - val_loss: 0.0097\n",
            "Epoch 124/200\n",
            " - 2s - loss: 0.0010 - val_loss: 0.0148\n",
            "Epoch 125/200\n",
            " - 2s - loss: 0.0014 - val_loss: 0.0104\n",
            "Epoch 126/200\n",
            " - 2s - loss: 0.0013 - val_loss: 0.0153\n",
            "Epoch 127/200\n",
            " - 2s - loss: 7.0693e-04 - val_loss: 0.0090\n",
            "Epoch 128/200\n",
            " - 2s - loss: 0.0013 - val_loss: 0.0081\n",
            "Epoch 129/200\n",
            " - 2s - loss: 0.0016 - val_loss: 0.0159\n",
            "Epoch 130/200\n",
            " - 2s - loss: 0.0011 - val_loss: 0.0104\n",
            "Epoch 131/200\n",
            " - 2s - loss: 0.0012 - val_loss: 0.0180\n",
            "Epoch 132/200\n",
            " - 2s - loss: 0.0015 - val_loss: 0.0108\n",
            "Epoch 133/200\n",
            " - 2s - loss: 0.0012 - val_loss: 0.0168\n",
            "Epoch 134/200\n",
            " - 2s - loss: 0.0014 - val_loss: 0.0168\n",
            "Epoch 135/200\n",
            " - 2s - loss: 0.0013 - val_loss: 0.0122\n",
            "Epoch 136/200\n",
            " - 2s - loss: 0.0016 - val_loss: 0.0142\n",
            "Epoch 137/200\n",
            " - 2s - loss: 0.0015 - val_loss: 0.0191\n",
            "Epoch 138/200\n",
            " - 2s - loss: 0.0013 - val_loss: 0.0173\n",
            "Epoch 139/200\n",
            " - 2s - loss: 0.0013 - val_loss: 0.0142\n",
            "Epoch 140/200\n",
            " - 2s - loss: 0.0012 - val_loss: 0.0113\n",
            "Epoch 141/200\n",
            " - 2s - loss: 0.0015 - val_loss: 0.0172\n",
            "Epoch 142/200\n",
            " - 2s - loss: 0.0019 - val_loss: 0.0234\n",
            "Epoch 143/200\n",
            " - 2s - loss: 8.2696e-04 - val_loss: 0.0175\n",
            "Epoch 144/200\n",
            " - 2s - loss: 0.0017 - val_loss: 0.0154\n",
            "Epoch 145/200\n",
            " - 2s - loss: 0.0016 - val_loss: 0.0140\n",
            "Epoch 146/200\n",
            " - 2s - loss: 0.0014 - val_loss: 0.0288\n",
            "Epoch 147/200\n",
            " - 2s - loss: 0.0014 - val_loss: 0.0158\n",
            "Epoch 148/200\n",
            " - 2s - loss: 0.0012 - val_loss: 0.0284\n",
            "Epoch 149/200\n",
            " - 2s - loss: 0.0011 - val_loss: 0.0148\n",
            "Epoch 150/200\n",
            " - 2s - loss: 0.0016 - val_loss: 0.0137\n",
            "Epoch 151/200\n",
            " - 2s - loss: 0.0017 - val_loss: 0.0195\n",
            "Epoch 152/200\n",
            " - 2s - loss: 9.0893e-04 - val_loss: 0.0167\n",
            "Epoch 153/200\n",
            " - 2s - loss: 0.0015 - val_loss: 0.0212\n",
            "Epoch 154/200\n",
            " - 2s - loss: 0.0015 - val_loss: 0.0120\n",
            "Epoch 155/200\n",
            " - 2s - loss: 0.0012 - val_loss: 0.0207\n",
            "Epoch 156/200\n",
            " - 2s - loss: 0.0010 - val_loss: 0.0206\n",
            "Epoch 157/200\n",
            " - 2s - loss: 0.0015 - val_loss: 0.0138\n",
            "Epoch 158/200\n",
            " - 2s - loss: 9.7728e-04 - val_loss: 0.0264\n",
            "Epoch 159/200\n",
            " - 2s - loss: 9.1898e-04 - val_loss: 0.0221\n",
            "Epoch 160/200\n",
            " - 2s - loss: 0.0010 - val_loss: 0.0283\n",
            "Epoch 161/200\n",
            " - 2s - loss: 0.0022 - val_loss: 0.0221\n",
            "Epoch 162/200\n",
            " - 2s - loss: 8.3474e-04 - val_loss: 0.0123\n",
            "Epoch 163/200\n",
            " - 2s - loss: 0.0011 - val_loss: 0.0130\n",
            "Epoch 164/200\n",
            " - 2s - loss: 0.0019 - val_loss: 0.0208\n",
            "Epoch 165/200\n",
            " - 2s - loss: 9.6570e-04 - val_loss: 0.0141\n",
            "Epoch 166/200\n",
            " - 2s - loss: 0.0012 - val_loss: 0.0286\n",
            "Epoch 167/200\n",
            " - 2s - loss: 0.0011 - val_loss: 0.0267\n",
            "Epoch 168/200\n",
            " - 2s - loss: 0.0016 - val_loss: 0.0104\n",
            "Epoch 169/200\n",
            " - 2s - loss: 9.7648e-04 - val_loss: 0.0250\n",
            "Epoch 170/200\n",
            " - 2s - loss: 9.8156e-04 - val_loss: 0.0225\n",
            "Epoch 171/200\n",
            " - 2s - loss: 0.0021 - val_loss: 0.0153\n",
            "Epoch 172/200\n",
            " - 2s - loss: 9.7738e-04 - val_loss: 0.0230\n",
            "Epoch 173/200\n",
            " - 2s - loss: 0.0011 - val_loss: 0.0253\n",
            "Epoch 174/200\n",
            " - 2s - loss: 0.0012 - val_loss: 0.0114\n",
            "Epoch 175/200\n",
            " - 2s - loss: 0.0012 - val_loss: 0.0101\n",
            "Epoch 176/200\n",
            " - 2s - loss: 0.0015 - val_loss: 0.0203\n",
            "Epoch 177/200\n",
            " - 2s - loss: 8.7075e-04 - val_loss: 0.0141\n",
            "Epoch 178/200\n",
            " - 2s - loss: 0.0013 - val_loss: 0.0248\n",
            "Epoch 179/200\n",
            " - 2s - loss: 0.0013 - val_loss: 0.0277\n",
            "Epoch 180/200\n",
            " - 2s - loss: 0.0011 - val_loss: 0.0121\n",
            "Epoch 181/200\n",
            " - 2s - loss: 0.0011 - val_loss: 0.0103\n",
            "Epoch 182/200\n",
            " - 2s - loss: 0.0012 - val_loss: 0.0211\n",
            "Epoch 183/200\n",
            " - 2s - loss: 0.0014 - val_loss: 0.0198\n",
            "Epoch 184/200\n",
            " - 2s - loss: 0.0014 - val_loss: 0.0123\n",
            "Epoch 185/200\n",
            " - 2s - loss: 0.0013 - val_loss: 0.0196\n",
            "Epoch 186/200\n",
            " - 2s - loss: 9.1462e-04 - val_loss: 0.0233\n",
            "Epoch 187/200\n",
            " - 2s - loss: 0.0013 - val_loss: 0.0200\n",
            "Epoch 188/200\n",
            " - 2s - loss: 0.0013 - val_loss: 0.0116\n",
            "Epoch 189/200\n",
            " - 2s - loss: 0.0011 - val_loss: 0.0203\n",
            "Epoch 190/200\n",
            " - 2s - loss: 0.0014 - val_loss: 0.0121\n",
            "Epoch 191/200\n",
            " - 2s - loss: 0.0014 - val_loss: 0.0187\n",
            "Epoch 192/200\n",
            " - 2s - loss: 0.0011 - val_loss: 0.0103\n",
            "Epoch 193/200\n",
            " - 2s - loss: 0.0015 - val_loss: 0.0166\n",
            "Epoch 194/200\n",
            " - 2s - loss: 7.8775e-04 - val_loss: 0.0127\n",
            "Epoch 195/200\n",
            " - 2s - loss: 0.0014 - val_loss: 0.0119\n",
            "Epoch 196/200\n",
            " - 2s - loss: 0.0014 - val_loss: 0.0322\n",
            "Epoch 197/200\n",
            " - 2s - loss: 0.0015 - val_loss: 0.0228\n",
            "Epoch 198/200\n",
            " - 2s - loss: 0.0017 - val_loss: 0.0104\n",
            "Epoch 199/200\n",
            " - 2s - loss: 0.0011 - val_loss: 0.0074\n",
            "Epoch 200/200\n",
            " - 2s - loss: 0.0014 - val_loss: 0.0116\n"
          ],
          "name": "stdout"
        }
      ]
    },
    {
      "cell_type": "code",
      "metadata": {
        "id": "V5njjvNyLfo2",
        "colab_type": "code",
        "colab": {
          "base_uri": "https://localhost:8080/",
          "height": 293
        },
        "outputId": "e2605dca-7d19-4bef-c888-47b501b1b2de"
      },
      "source": [
        "y_pred = lstm_model.predict(trim_dataset(x_test_t, BATCH_SIZE), batch_size=BATCH_SIZE)\n",
        "y_pred = y_pred.flatten()\n",
        "y_test_t = trim_dataset(y_test_t, BATCH_SIZE)\n",
        "error = mean_squared_error(y_test_t, y_pred)\n",
        "print(\"Error is\", error, y_pred.shape, y_test_t.shape)\n",
        "print(y_pred[0:15])\n",
        "print(y_test_t[0:15])\n",
        "\n",
        "# convert the predicted value to range of real data\n",
        "y_pred_org = (y_pred * min_max_scaler.data_range_[3]) + min_max_scaler.data_min_[3]\n",
        "# min_max_scaler.inverse_transform(y_pred)\n",
        "y_test_t_org = (y_test_t * min_max_scaler.data_range_[3]) + min_max_scaler.data_min_[3]\n",
        "# min_max_scaler.inverse_transform(y_test_t)\n",
        "print(y_pred_org[0:15])\n",
        "print(y_test_t_org[0:15])"
      ],
      "execution_count": 93,
      "outputs": [
        {
          "output_type": "stream",
          "text": [
            "Error is 0.003370867916276597 (128,) (128,)\n",
            "[0.75365084 0.76071084 0.7373797  0.7280642  0.69637924 0.6686658\n",
            " 0.6697124  0.7069122  0.6960372  0.65271074 0.6343129  0.6324426\n",
            " 0.669958   0.72007316 0.74433494]\n",
            "[0.56962235 0.63300589 0.60981866 0.55069561 0.53858231 0.54989447\n",
            " 0.60991693 0.57131138 0.55904502 0.57095491 0.58349657 0.62672336\n",
            " 0.6416232  0.62002305 0.57872493]\n",
            "[14738.107 14874.501 14423.761 14243.791 13631.66  13096.256 13116.476\n",
            " 13835.149 13625.052 12788.015 12432.582 12396.449 13121.22  14089.41\n",
            " 14558.13 ]\n",
            "[11182.806641 12407.332031 11959.371094 10817.155273 10583.134766\n",
            " 10801.677734 11961.269531 11215.4375   10978.459961 11208.550781\n",
            " 11450.84668  12285.958008 12573.8125   12156.512695 11358.662109]\n"
          ],
          "name": "stdout"
        }
      ]
    },
    {
      "cell_type": "code",
      "metadata": {
        "id": "nBvyFWLcLzwA",
        "colab_type": "code",
        "colab": {
          "base_uri": "https://localhost:8080/",
          "height": 353
        },
        "outputId": "b87f7812-195e-4bc3-9405-bf3695410ca9"
      },
      "source": [
        "# Visualize the prediction\n",
        "from matplotlib import pyplot as plt\n",
        "plt.figure()\n",
        "plt.plot(y_pred_org)\n",
        "plt.plot(y_test_t_org)\n",
        "plt.title('Prediction vs Real Stock Price')\n",
        "plt.ylabel('Price')\n",
        "plt.xlabel('Days')\n",
        "plt.legend(['Prediction', 'Real'], loc='upper left')\n",
        "#plt.show()\n",
        "#plt.savefig(os.path.join(OUTPUT_PATH, 'pred_vs_real_BS'+str(BATCH_SIZE)+\"_\"+time.ctime()+'.png'))\n",
        "#print_time(\"program completed \", stime)"
      ],
      "execution_count": 94,
      "outputs": [
        {
          "output_type": "execute_result",
          "data": {
            "text/plain": [
              "<matplotlib.legend.Legend at 0x7fb1b13a8be0>"
            ]
          },
          "metadata": {
            "tags": []
          },
          "execution_count": 94
        },
        {
          "output_type": "display_data",
          "data": {
            "image/png": "[encoded data removed]",
            "text/plain": [
              "<Figure size 432x288 with 1 Axes>"
            ]
          },
          "metadata": {
            "tags": []
          }
        }
      ]
    }
  ]
}